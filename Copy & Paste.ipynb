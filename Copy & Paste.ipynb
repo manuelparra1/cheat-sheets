{
 "cells": [
  {
   "cell_type": "code",
   "execution_count": 1,
   "id": "565f473f",
   "metadata": {},
   "outputs": [
    {
     "data": {
      "text/latex": [
       "Failed to reject $H_0$"
      ],
      "text/plain": [
       "<IPython.core.display.Latex object>"
      ]
     },
     "metadata": {},
     "output_type": "display_data"
    }
   ],
   "source": [
    "from IPython.display import display, Latex\n",
    "\n",
    "alpha = .05\n",
    "p=.02\n",
    "\n",
    "if p < alpha:\n",
    "    display(Latex((f\"Failed to reject $H_{0}$\")))"
   ]
  },
  {
   "cell_type": "markdown",
   "id": "75282b85",
   "metadata": {},
   "source": [
    "<div class=\"alert alert-block alert-success\">\n",
    "\n",
    "In order to answer questions 2 & 3, we will break down statistical testing.\n",
    "<br>\n",
    "<br>\n",
    "<b>Step-by-Step</b>\n",
    "1. Plot distribution\n",
    "2. Set Hypothesis\n",
    "3. Set Alpha\n",
    "4. Verify 3 Assumptions\n",
    "5. Compute Test Statistics\n",
    "6. Decide\n",
    "    \n",
    "</div> "
   ]
  },
  {
   "cell_type": "code",
   "execution_count": 2,
   "id": "a1e34da2",
   "metadata": {},
   "outputs": [],
   "source": [
    "import pandas as pd\n",
    "from io import StringIO\n",
    "import nltk\n",
    "import collections as co\n",
    "\n",
    "\n",
    "import warnings # ignore warnings \n",
    "warnings.filterwarnings(\"ignore\")\n",
    "import seaborn as sns\n",
    "import matplotlib.pyplot as plt\n",
    "sns.set(style=\"white\", color_codes=True)\n"
   ]
  },
  {
   "cell_type": "code",
   "execution_count": null,
   "id": "2ec24dde",
   "metadata": {},
   "outputs": [],
   "source": [
    "from wordcloud import WordCloud\n",
    "text = \n",
    "wordcloud = WordCloud().generate(text)\n",
    "\n",
    "# Display the generated image:\n",
    "# the matplotlib way:\n",
    "import matplotlib.pyplot as plt\n",
    "\n",
    "\n",
    "# take relative word frequencies into account, lower max_font_size\n",
    "wordcloud = WordCloud(background_color=\"white\",max_words=len(s),max_font_size=40, relative_scaling=.5).generate(text)\n",
    "plt.figure()\n",
    "plt.imshow(wordcloud)\n",
    "plt.axis(\"off\")\n",
    "plt.show()"
   ]
  },
  {
   "cell_type": "code",
   "execution_count": 3,
   "id": "75f3ebfb",
   "metadata": {},
   "outputs": [
    {
     "name": "stdout",
     "output_type": "stream",
     "text": [
      "[34 87 42]\n"
     ]
    }
   ],
   "source": [
    "import numpy as np\n",
    "\n",
    "a=np.array([34,45,87,21,23,42])\n",
    "b=a[[0,2,5]]\n",
    "print(b)"
   ]
  },
  {
   "cell_type": "code",
   "execution_count": 5,
   "id": "d83d3915",
   "metadata": {},
   "outputs": [
    {
     "name": "stdout",
     "output_type": "stream",
     "text": [
      "[0.         0.11111111 0.22222222 0.33333333 0.44444444 0.55555556\n",
      " 0.66666667 0.77777778 0.88888889 1.        ]\n"
     ]
    }
   ],
   "source": [
    "arr = np.linspace(0, 1, 10)\n",
    "print(arr)"
   ]
  },
  {
   "cell_type": "code",
   "execution_count": 15,
   "id": "464f0c79",
   "metadata": {},
   "outputs": [
    {
     "name": "stdout",
     "output_type": "stream",
     "text": [
      "[ 1.          1.29154967  1.66810054  2.15443469  2.7825594   3.59381366\n",
      "  4.64158883  5.9948425   7.74263683 10.        ]\n"
     ]
    }
   ],
   "source": [
    "# 1-10 in log10 increments\n",
    "arr = np.logspace(0, 1, 10, base=10.0)\n",
    "print(arr)"
   ]
  },
  {
   "cell_type": "code",
   "execution_count": 17,
   "id": "f432df33",
   "metadata": {},
   "outputs": [],
   "source": [
    "# Creating an image\n",
    "img1 = np.zeros((20, 20)) + 3\n",
    "img1[4:-4, 4:-4] = 6\n",
    "img1[7:-7, 7:-7] = 9\n",
    "# See Plot A"
   ]
  },
  {
   "cell_type": "code",
   "execution_count": 19,
   "id": "849e2532",
   "metadata": {},
   "outputs": [
    {
     "name": "stdout",
     "output_type": "stream",
     "text": [
      "[1.00377371 2.03326749]\n"
     ]
    }
   ],
   "source": [
    "import numpy as np\n",
    "from scipy.optimize import curve_fit\n",
    "\n",
    "# Creating a function to model and create data\n",
    "def func(x, a, b):\n",
    "    return a * x + b\n",
    "\n",
    "# Generating clean data\n",
    "x = np.linspace(0, 10, 100)\n",
    "y = func(x, 1, 2)\n",
    "\n",
    "# Adding noise to the data\n",
    "yn = y + 0.9 * np.random.normal(size=len(x))\n",
    "\n",
    "# Executing curve_fit on noisy data\n",
    "popt, pcov = curve_fit(func, x, yn)\n",
    "\n",
    "# popt returns the best fit values for parameters of \n",
    "# the given model (func).\n",
    "print(popt)"
   ]
  },
  {
   "cell_type": "markdown",
   "id": "0295cb5d",
   "metadata": {},
   "source": [
    "# O'Reilly SciPy & NumPy - An Overview For Developers"
   ]
  },
  {
   "cell_type": "markdown",
   "id": "34ffcc95",
   "metadata": {},
   "source": [
    "[<img src='oreilly_scipy_and_numpy.jpg' align='Left' width='100'>](https://a.co/d/7PiReG7)"
   ]
  },
  {
   "cell_type": "markdown",
   "id": "5a03b35a",
   "metadata": {},
   "source": [
    "## 3.4 Statistics"
   ]
  },
  {
   "cell_type": "code",
   "execution_count": null,
   "id": "85bb4b17",
   "metadata": {},
   "outputs": [],
   "source": [
    "import numpy as np\n",
    "\n",
    "# Constructing a random array with 1000 elements\n",
    "x = np.random.randn(1000)\n",
    "\n",
    "# Calculating several of the built-in methods\n",
    "# that numpy.array has\n",
    "mean = x.mean()\n",
    "std = x.std()\n",
    "var = x.var()"
   ]
  },
  {
   "cell_type": "markdown",
   "id": "75cfc746",
   "metadata": {},
   "source": [
    "### 3.4.1 Continuous and Discrete Distributions"
   ]
  },
  {
   "cell_type": "code",
   "execution_count": 23,
   "id": "7a087a42",
   "metadata": {},
   "outputs": [],
   "source": [
    "import numpy as np\n",
    "from scipy.stats import norm\n",
    "\n",
    "# Set up the sample range\n",
    "x = np.linspace(-5,5,1000)\n",
    "\n",
    "# Here set up the parameters for the normal distribution,\n",
    "# where loc is the mean and scale is the standard deviation.\n",
    "dist = norm(loc=0, scale=1)\n",
    "\n",
    "# Retrieving norm's PDF and CDF\n",
    "pdf = dist.pdf(x)\n",
    "cdf = dist.cdf(x)\n",
    "\n",
    "# Here we draw out 500 random values from the norm.\n",
    "sample = dist.rvs(500)"
   ]
  },
  {
   "cell_type": "code",
   "execution_count": 31,
   "id": "a1048167",
   "metadata": {},
   "outputs": [
    {
     "name": "stdout",
     "output_type": "stream",
     "text": [
      "normaltest output\n",
      "Z-score = 0.6619711731557998\n",
      "P-value = 0.718215520909429\n",
      "\n",
      "kstest output for the Normal distribution\n",
      "D = 0.09737821581614814\n",
      "P-value = 0.2805966371088926\n",
      "\n",
      "kstest output for the Wald distribution\n",
      "D = 0.5085685865336482\n",
      "P-value = 1.678201176281991e-24\n"
     ]
    }
   ],
   "source": [
    "import numpy as np\n",
    "from scipy import stats\n",
    "\n",
    "# Generating a normal distribution sample # with 100 elements\n",
    "sample = np.random.randn(100)\n",
    "\n",
    "# normaltest tests the null hypothesis. \n",
    "out = stats.normaltest(sample)\n",
    "print('normaltest output')\n",
    "print('Z-score = ' + str(out[0]))\n",
    "print('P-value = ' + str(out[1]))\n",
    "\n",
    "# kstest is the Kolmogorov-Smirnov test for goodness of fit.\n",
    "# Here its sample is being tested against the normal distribution.\n",
    "# D is the KS statistic and the closer it is to 0 the better.\n",
    "out = stats.kstest(sample, 'norm')\n",
    "print('\\nkstest output for the Normal distribution')\n",
    "print('D = ' + str(out[0]))\n",
    "print('P-value = ' + str(out[1]))\n",
    "\n",
    "# Similarly, this can be easily tested against other distributions, # like the Wald distribution.\n",
    "out = stats.kstest(sample, 'wald')\n",
    "print('\\nkstest output for the Wald distribution')\n",
    "print('D = ' + str(out[0]))\n",
    "print('P-value = ' + str(out[1]))"
   ]
  },
  {
   "cell_type": "code",
   "execution_count": 32,
   "id": "101adc22",
   "metadata": {},
   "outputs": [
    {
     "name": "stdout",
     "output_type": "stream",
     "text": [
      "Harmonic mean = 0.18457836516010295\n",
      "\n",
      "Trimmed mean = 0.03350574386074275\n",
      "\n",
      "Skewness = -0.3184324019172746\n",
      "\n",
      "Size = 100\n",
      "Min = -3.3806711823214144\n",
      "Max = 1.9447067083456295\n",
      "Mean = -0.09132770238976637\n",
      "Variance = 0.9335890200001046\n",
      "Skewness = -0.3184324019172746\n",
      "Kurtosis = 0.2994242726687877\n"
     ]
    }
   ],
   "source": [
    "import numpy as np\n",
    "from scipy import stats\n",
    "\n",
    "# Generating a normal distribution sample\n",
    "# with 100 elements\n",
    "sample = np.random.randn(100)\n",
    "\n",
    "# The harmonic mean: Sample values have to\n",
    "# be greater than 0.\n",
    "out = stats.hmean(sample[sample > 0])\n",
    "print('Harmonic mean = ' + str(out))\n",
    "\n",
    "# The mean, where values below -1 and above 1 are\n",
    "# removed for the mean calculation\n",
    "out = stats.tmean(sample, limits=(-1, 1))\n",
    "print('\\nTrimmed mean = ' + str(out))\n",
    "\n",
    "# Calculating the skewness of the sample\n",
    "out = stats.skew(sample)\n",
    "print('\\nSkewness = ' + str(out))\n",
    "\n",
    "# Additionally, there is a handy summary function called\n",
    "# describe, which gives a quick look at the data.\n",
    "out = stats.describe(sample)\n",
    "print('\\nSize = ' + str(out[0]))\n",
    "print('Min = ' + str(out[1][0]))\n",
    "print('Max = ' + str(out[1][1]))\n",
    "print('Mean = ' + str(out[2]))\n",
    "print('Variance = ' + str(out[3]))\n",
    "print('Skewness = ' + str(out[4]))\n",
    "print('Kurtosis = ' + str(out[5]))"
   ]
  },
  {
   "cell_type": "markdown",
   "id": "97149d38",
   "metadata": {},
   "source": [
    "## Clustering"
   ]
  },
  {
   "cell_type": "code",
   "execution_count": 30,
   "id": "6f874207",
   "metadata": {},
   "outputs": [
    {
     "data": {
      "image/png": "[encoded data removed]",
      "text/plain": [
       "<Figure size 640x480 with 2 Axes>"
      ]
     },
     "metadata": {},
     "output_type": "display_data"
    }
   ],
   "source": [
    "import numpy as np\n",
    "import matplotlib.pyplot as mpl \n",
    "from scipy.spatial import distance\n",
    "from sklearn.cluster import DBSCAN\n",
    "\n",
    "# Creating data\n",
    "c1 = np.random.randn(100, 2) + 5\n",
    "c2 = np.random.randn(50, 2)\n",
    "\n",
    "# Creating a uniformly distributed background\n",
    "u1 = np.random.uniform(low=-10, high=10, size=100)\n",
    "u2 = np.random.uniform(low=-10, high=10, size=100)\n",
    "c3 = np.column_stack([u1, u2])\n",
    "\n",
    "# Pooling all the data into one 150 x 2 array\n",
    "data = np.vstack([c1, c2, c3])\n",
    "\n",
    "# Calculating the cluster with DBSCAN function.\n",
    "# db.labels_ is an array with identifiers to the\n",
    "# different clusters in the data.\n",
    "db = DBSCAN(eps=0.95, min_samples=10).fit(data)\n",
    "labels = db.labels_\n",
    "\n",
    "# Retrieving coordinates for points in each\n",
    "# identified core. There are two clusters\n",
    "# denoted as 0 and 1 and the noise is denoted\n",
    "# as -1. Here we split the data based on which\n",
    "# component they belong to.\n",
    "dbc1 = data[labels == 0]\n",
    "dbc2 = data[labels == 1]\n",
    "noise = data[labels == -1]\n",
    "\n",
    "# Setting up plot details \n",
    "x1, x2 = -12, 12\n",
    "y1, y2 = -12, 12\n",
    "fig = mpl.figure()\n",
    "fig.subplots_adjust(hspace=0.1, wspace=0.1)\n",
    "ax1 = fig.add_subplot(121, aspect='equal')\n",
    "ax1.scatter(c1[:,0], c1[:,1], lw=0.5, color='#00CC00')\n",
    "ax1.scatter(c2[:,0], c2[:,1], lw=0.5, color='#028E9B')\n",
    "ax1.scatter(c3[:,0], c3[:,1], lw=0.5, color='#FF7800')\n",
    "ax1.xaxis.set_visible(False)\n",
    "ax1.yaxis.set_visible(False)\n",
    "ax1.set_xlim(x1, x2)\n",
    "ax1.set_ylim(y1, y2)\n",
    "ax1.text(-11, 10, 'Original')\n",
    "ax2 = fig.add_subplot(122, aspect='equal')\n",
    "ax2.scatter(dbc1[:,0], dbc1[:,1], lw=0.5, color='#00CC00')\n",
    "ax2.scatter(dbc2[:,0], dbc2[:,1], lw=0.5, color='#028E9B')\n",
    "ax2.scatter(noise[:,0], noise[:,1], lw=0.5, color='#FF7800')\n",
    "ax2.xaxis.set_visible(False)\n",
    "ax2.yaxis.set_visible(False)\n",
    "ax2.set_xlim(x1, x2)\n",
    "ax2.set_ylim(y1, y2)\n",
    "ax2.text(-11, 10, 'DBSCAN identified')\n",
    "fig.savefig('scikit_learn_clusters.pdf', bbox_inches='tight')"
   ]
  }
 ],
 "metadata": {
  "kernelspec": {
   "display_name": "Python 3 (ipykernel)",
   "language": "python",
   "name": "python3"
  },
  "language_info": {
   "codemirror_mode": {
    "name": "ipython",
    "version": 3
   },
   "file_extension": ".py",
   "mimetype": "text/x-python",
   "name": "python",
   "nbconvert_exporter": "python",
   "pygments_lexer": "ipython3",
   "version": "3.9.13"
  }
 },
 "nbformat": 4,
 "nbformat_minor": 5
}
