{
 "cells": [
  {
   "cell_type": "code",
   "execution_count": 1,
   "id": "e5232efc",
   "metadata": {},
   "outputs": [
    {
     "data": {
      "text/latex": [
       "Failed to reject $H_0$"
      ],
      "text/plain": [
       "<IPython.core.display.Latex object>"
      ]
     },
     "metadata": {},
     "output_type": "display_data"
    }
   ],
   "source": [
    "from IPython.display import display, Latex\n",
    "\n",
    "alpha = .05\n",
    "p=.02\n",
    "\n",
    "if p < alpha:\n",
    "    display(Latex((f\"Failed to reject $H_{0}$\")))"
   ]
  }
 ],
 "metadata": {
  "kernelspec": {
   "display_name": "Python 3 (ipykernel)",
   "language": "python",
   "name": "python3"
  },
  "language_info": {
   "codemirror_mode": {
    "name": "ipython",
    "version": 3
   },
   "file_extension": ".py",
   "mimetype": "text/x-python",
   "name": "python",
   "nbconvert_exporter": "python",
   "pygments_lexer": "ipython3",
   "version": "3.9.13"
  }
 },
 "nbformat": 4,
 "nbformat_minor": 5
}
